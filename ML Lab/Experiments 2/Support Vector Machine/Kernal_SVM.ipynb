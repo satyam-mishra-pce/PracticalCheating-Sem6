{
  "nbformat": 4,
  "nbformat_minor": 0,
  "metadata": {
    "colab": {
      "name": "Kernal_SVM.ipynb",
      "provenance": []
    },
    "kernelspec": {
      "name": "python3",
      "display_name": "Python 3"
    },
    "language_info": {
      "name": "python"
    }
  },
  "cells": [
    {
      "cell_type": "code",
      "metadata": {
        "id": "IM71PtRb7kdy"
      },
      "source": [
        "import numpy as np\n",
        "import pandas as pd\n",
        "import matplotlib.pyplot as plt\n",
        "import seaborn as sns\n",
        "%matplotlib inline\n",
        "df = pd.read_csv('/content/pulsar_data_train.csv')\n",
        "df=pd.DataFrame(df)"
      ],
      "execution_count": null,
      "outputs": []
    },
    {
      "cell_type": "code",
      "metadata": {
        "colab": {
          "base_uri": "https://localhost:8080/",
          "height": 297
        },
        "id": "DhzpAAJD9HsR",
        "outputId": "dc2d1b31-a3ef-42f1-d26e-b1852309741f"
      },
      "source": [
        "df.columns =['IP Mean', 'IP Sd', 'IP Kurtosis', 'IP Skewness','DM-SNR Mean', 'DM-SNR Sd', 'DM-SNR Kurtosis', 'DM-SNR Skewness', 'target_class']\n",
        "round(df.describe(),2)"
      ],
      "execution_count": null,
      "outputs": [
        {
          "output_type": "execute_result",
          "data": {
            "text/html": [
              "<div>\n",
              "<style scoped>\n",
              "    .dataframe tbody tr th:only-of-type {\n",
              "        vertical-align: middle;\n",
              "    }\n",
              "\n",
              "    .dataframe tbody tr th {\n",
              "        vertical-align: top;\n",
              "    }\n",
              "\n",
              "    .dataframe thead th {\n",
              "        text-align: right;\n",
              "    }\n",
              "</style>\n",
              "<table border=\"1\" class=\"dataframe\">\n",
              "  <thead>\n",
              "    <tr style=\"text-align: right;\">\n",
              "      <th></th>\n",
              "      <th>IP Mean</th>\n",
              "      <th>IP Sd</th>\n",
              "      <th>IP Kurtosis</th>\n",
              "      <th>IP Skewness</th>\n",
              "      <th>DM-SNR Mean</th>\n",
              "      <th>DM-SNR Sd</th>\n",
              "      <th>DM-SNR Kurtosis</th>\n",
              "      <th>DM-SNR Skewness</th>\n",
              "      <th>target_class</th>\n",
              "    </tr>\n",
              "  </thead>\n",
              "  <tbody>\n",
              "    <tr>\n",
              "      <th>count</th>\n",
              "      <td>12528.00</td>\n",
              "      <td>12528.00</td>\n",
              "      <td>10793.00</td>\n",
              "      <td>12528.00</td>\n",
              "      <td>12528.00</td>\n",
              "      <td>11350.00</td>\n",
              "      <td>12528.00</td>\n",
              "      <td>11903.00</td>\n",
              "      <td>12528.00</td>\n",
              "    </tr>\n",
              "    <tr>\n",
              "      <th>mean</th>\n",
              "      <td>111.04</td>\n",
              "      <td>46.52</td>\n",
              "      <td>0.48</td>\n",
              "      <td>1.78</td>\n",
              "      <td>12.67</td>\n",
              "      <td>26.35</td>\n",
              "      <td>8.33</td>\n",
              "      <td>105.53</td>\n",
              "      <td>0.09</td>\n",
              "    </tr>\n",
              "    <tr>\n",
              "      <th>std</th>\n",
              "      <td>25.67</td>\n",
              "      <td>6.80</td>\n",
              "      <td>1.06</td>\n",
              "      <td>6.21</td>\n",
              "      <td>29.61</td>\n",
              "      <td>19.61</td>\n",
              "      <td>4.54</td>\n",
              "      <td>107.40</td>\n",
              "      <td>0.29</td>\n",
              "    </tr>\n",
              "    <tr>\n",
              "      <th>min</th>\n",
              "      <td>5.81</td>\n",
              "      <td>24.77</td>\n",
              "      <td>-1.74</td>\n",
              "      <td>-1.79</td>\n",
              "      <td>0.21</td>\n",
              "      <td>7.37</td>\n",
              "      <td>-3.14</td>\n",
              "      <td>-1.98</td>\n",
              "      <td>0.00</td>\n",
              "    </tr>\n",
              "    <tr>\n",
              "      <th>25%</th>\n",
              "      <td>100.87</td>\n",
              "      <td>42.36</td>\n",
              "      <td>0.02</td>\n",
              "      <td>-0.19</td>\n",
              "      <td>1.91</td>\n",
              "      <td>14.40</td>\n",
              "      <td>5.80</td>\n",
              "      <td>35.20</td>\n",
              "      <td>0.00</td>\n",
              "    </tr>\n",
              "    <tr>\n",
              "      <th>50%</th>\n",
              "      <td>115.18</td>\n",
              "      <td>46.93</td>\n",
              "      <td>0.22</td>\n",
              "      <td>0.20</td>\n",
              "      <td>2.79</td>\n",
              "      <td>18.41</td>\n",
              "      <td>8.45</td>\n",
              "      <td>83.13</td>\n",
              "      <td>0.00</td>\n",
              "    </tr>\n",
              "    <tr>\n",
              "      <th>75%</th>\n",
              "      <td>127.11</td>\n",
              "      <td>50.98</td>\n",
              "      <td>0.47</td>\n",
              "      <td>0.93</td>\n",
              "      <td>5.41</td>\n",
              "      <td>28.34</td>\n",
              "      <td>10.73</td>\n",
              "      <td>140.00</td>\n",
              "      <td>0.00</td>\n",
              "    </tr>\n",
              "    <tr>\n",
              "      <th>max</th>\n",
              "      <td>189.73</td>\n",
              "      <td>91.81</td>\n",
              "      <td>8.07</td>\n",
              "      <td>68.10</td>\n",
              "      <td>222.42</td>\n",
              "      <td>110.64</td>\n",
              "      <td>34.54</td>\n",
              "      <td>1191.00</td>\n",
              "      <td>1.00</td>\n",
              "    </tr>\n",
              "  </tbody>\n",
              "</table>\n",
              "</div>"
            ],
            "text/plain": [
              "        IP Mean     IP Sd  ...  DM-SNR Skewness  target_class\n",
              "count  12528.00  12528.00  ...         11903.00      12528.00\n",
              "mean     111.04     46.52  ...           105.53          0.09\n",
              "std       25.67      6.80  ...           107.40          0.29\n",
              "min        5.81     24.77  ...            -1.98          0.00\n",
              "25%      100.87     42.36  ...            35.20          0.00\n",
              "50%      115.18     46.93  ...            83.13          0.00\n",
              "75%      127.11     50.98  ...           140.00          0.00\n",
              "max      189.73     91.81  ...          1191.00          1.00\n",
              "\n",
              "[8 rows x 9 columns]"
            ]
          },
          "metadata": {},
          "execution_count": 4
        }
      ]
    },
    {
      "cell_type": "code",
      "metadata": {
        "colab": {
          "base_uri": "https://localhost:8080/"
        },
        "id": "Ud7E1iJH9SA7",
        "outputId": "3c789439-9823-4fa1-fe0e-78ef10091a5f"
      },
      "source": [
        "df.isnull().sum()"
      ],
      "execution_count": null,
      "outputs": [
        {
          "output_type": "execute_result",
          "data": {
            "text/plain": [
              "IP Mean               0\n",
              "IP Sd                 0\n",
              "IP Kurtosis        1735\n",
              "IP Skewness           0\n",
              "DM-SNR Mean           0\n",
              "DM-SNR Sd          1178\n",
              "DM-SNR Kurtosis       0\n",
              "DM-SNR Skewness     625\n",
              "target_class          0\n",
              "dtype: int64"
            ]
          },
          "metadata": {},
          "execution_count": 5
        }
      ]
    },
    {
      "cell_type": "code",
      "metadata": {
        "colab": {
          "base_uri": "https://localhost:8080/"
        },
        "id": "Q9dCaIMm9WkV",
        "outputId": "e37db627-7187-4734-f471-2ecfdde3d2a1"
      },
      "source": [
        "df.dropna(subset = [\"IP Kurtosis\"], inplace=True)\n",
        "df.dropna(subset = [\"DM-SNR Skewness\"], inplace=True)\n",
        "df.dropna(subset=['DM-SNR Sd'],inplace=True)\n",
        "df.isnull().sum()"
      ],
      "execution_count": null,
      "outputs": [
        {
          "output_type": "execute_result",
          "data": {
            "text/plain": [
              "IP Mean            0\n",
              "IP Sd              0\n",
              "IP Kurtosis        0\n",
              "IP Skewness        0\n",
              "DM-SNR Mean        0\n",
              "DM-SNR Sd          0\n",
              "DM-SNR Kurtosis    0\n",
              "DM-SNR Skewness    0\n",
              "target_class       0\n",
              "dtype: int64"
            ]
          },
          "metadata": {},
          "execution_count": 6
        }
      ]
    },
    {
      "cell_type": "code",
      "metadata": {
        "id": "0jHw-nlX9ZS6"
      },
      "source": [
        "X = df.drop(['target_class'], axis=1)\n",
        "y = df['target_class']\n",
        "from sklearn.model_selection import train_test_split\n",
        "X_train, X_test, y_train, y_test = train_test_split(X, y, test_size = 0.2,\n",
        "random_state = 0)\n",
        "X_train.shape, X_test.shape\n",
        "cols = X_train.columns"
      ],
      "execution_count": null,
      "outputs": []
    },
    {
      "cell_type": "code",
      "metadata": {
        "colab": {
          "base_uri": "https://localhost:8080/",
          "height": 204
        },
        "id": "-rcgNyCS9Zcy",
        "outputId": "93ec7a2e-b6b5-41f8-e295-5f8d1f7b10bf"
      },
      "source": [
        "from sklearn.preprocessing import StandardScaler\n",
        "scaler = StandardScaler()\n",
        "X_train = scaler.fit_transform(X_train)\n",
        "X_test = scaler.transform(X_test)\n",
        "X_train = pd.DataFrame(X_train, columns=[cols])\n",
        "X_test = pd.DataFrame(X_test, columns=[cols])\n",
        "X_train.head(5)"
      ],
      "execution_count": null,
      "outputs": [
        {
          "output_type": "execute_result",
          "data": {
            "text/html": [
              "<div>\n",
              "<style scoped>\n",
              "    .dataframe tbody tr th:only-of-type {\n",
              "        vertical-align: middle;\n",
              "    }\n",
              "\n",
              "    .dataframe tbody tr th {\n",
              "        vertical-align: top;\n",
              "    }\n",
              "\n",
              "    .dataframe thead tr th {\n",
              "        text-align: left;\n",
              "    }\n",
              "</style>\n",
              "<table border=\"1\" class=\"dataframe\">\n",
              "  <thead>\n",
              "    <tr>\n",
              "      <th></th>\n",
              "      <th>IP Mean</th>\n",
              "      <th>IP Sd</th>\n",
              "      <th>IP Kurtosis</th>\n",
              "      <th>IP Skewness</th>\n",
              "      <th>DM-SNR Mean</th>\n",
              "      <th>DM-SNR Sd</th>\n",
              "      <th>DM-SNR Kurtosis</th>\n",
              "      <th>DM-SNR Skewness</th>\n",
              "    </tr>\n",
              "  </thead>\n",
              "  <tbody>\n",
              "    <tr>\n",
              "      <th>0</th>\n",
              "      <td>0.164798</td>\n",
              "      <td>0.907948</td>\n",
              "      <td>-0.032971</td>\n",
              "      <td>-0.269461</td>\n",
              "      <td>-0.313497</td>\n",
              "      <td>-0.405422</td>\n",
              "      <td>-0.220249</td>\n",
              "      <td>-0.374169</td>\n",
              "    </tr>\n",
              "    <tr>\n",
              "      <th>1</th>\n",
              "      <td>0.743130</td>\n",
              "      <td>-0.177942</td>\n",
              "      <td>-0.490658</td>\n",
              "      <td>-0.286519</td>\n",
              "      <td>-0.306883</td>\n",
              "      <td>-0.262643</td>\n",
              "      <td>-0.166121</td>\n",
              "      <td>-0.386149</td>\n",
              "    </tr>\n",
              "    <tr>\n",
              "      <th>2</th>\n",
              "      <td>0.606714</td>\n",
              "      <td>-0.760029</td>\n",
              "      <td>-0.186538</td>\n",
              "      <td>-0.083582</td>\n",
              "      <td>-0.377819</td>\n",
              "      <td>-0.714923</td>\n",
              "      <td>0.972838</td>\n",
              "      <td>0.913185</td>\n",
              "    </tr>\n",
              "    <tr>\n",
              "      <th>3</th>\n",
              "      <td>-0.254433</td>\n",
              "      <td>0.320053</td>\n",
              "      <td>-0.257150</td>\n",
              "      <td>-0.251679</td>\n",
              "      <td>-0.325306</td>\n",
              "      <td>-0.368962</td>\n",
              "      <td>-0.008550</td>\n",
              "      <td>-0.263124</td>\n",
              "    </tr>\n",
              "    <tr>\n",
              "      <th>4</th>\n",
              "      <td>0.303936</td>\n",
              "      <td>0.845016</td>\n",
              "      <td>-0.500837</td>\n",
              "      <td>-0.339807</td>\n",
              "      <td>-0.412308</td>\n",
              "      <td>-0.902511</td>\n",
              "      <td>3.430210</td>\n",
              "      <td>4.940553</td>\n",
              "    </tr>\n",
              "  </tbody>\n",
              "</table>\n",
              "</div>"
            ],
            "text/plain": [
              "    IP Mean     IP Sd IP Kurtosis  ... DM-SNR Sd DM-SNR Kurtosis DM-SNR Skewness\n",
              "0  0.164798  0.907948   -0.032971  ... -0.405422       -0.220249       -0.374169\n",
              "1  0.743130 -0.177942   -0.490658  ... -0.262643       -0.166121       -0.386149\n",
              "2  0.606714 -0.760029   -0.186538  ... -0.714923        0.972838        0.913185\n",
              "3 -0.254433  0.320053   -0.257150  ... -0.368962       -0.008550       -0.263124\n",
              "4  0.303936  0.845016   -0.500837  ... -0.902511        3.430210        4.940553\n",
              "\n",
              "[5 rows x 8 columns]"
            ]
          },
          "metadata": {},
          "execution_count": 22
        }
      ]
    },
    {
      "cell_type": "code",
      "metadata": {
        "colab": {
          "base_uri": "https://localhost:8080/",
          "height": 1000
        },
        "id": "mrNrQFXJ-1mD",
        "outputId": "b774d8b8-5989-4ecd-cf47-531ab050de84"
      },
      "source": [
        "plt.figure(figsize=(12,20))\n",
        "plt.subplot(4, 2, 1)\n",
        "fig = df.boxplot(column='IP Mean')\n",
        "fig.set_title('')\n",
        "fig.set_ylabel('IP Mean')\n",
        "plt.subplot(4, 2, 2)\n",
        "fig = df.boxplot(column='IP Sd')\n",
        "fig.set_title('')\n",
        "fig.set_ylabel('IP Sd')\n",
        "plt.subplot(4, 2, 3)\n",
        "fig = df.boxplot(column='IP Kurtosis')\n",
        "fig.set_title('')\n",
        "fig.set_ylabel('IP Kurtosis')\n",
        "plt.subplot(4, 2, 4)\n",
        "fig = df.boxplot(column='IP Skewness')\n",
        "fig.set_title('')\n",
        "fig.set_ylabel('IP Skewness')\n",
        "plt.subplot(4, 2, 5)\n",
        "fig = df.boxplot(column='DM-SNR Mean')\n",
        "fig.set_title('')\n",
        "fig.set_ylabel('DM-SNR Mean')\n",
        "plt.subplot(4, 2, 6)\n",
        "fig = df.boxplot(column='DM-SNR Sd')\n",
        "fig.set_title('')\n",
        "fig.set_ylabel('DM-SNR Sd')\n",
        "plt.subplot(4, 2, 7)\n",
        "fig = df.boxplot(column='DM-SNR Kurtosis')\n",
        "fig.set_title('')\n",
        "fig.set_ylabel('DM-SNR Kurtosis')\n",
        "plt.subplot(4, 2, 8)\n",
        "fig = df.boxplot(column='DM-SNR Skewness')\n",
        "fig.set_title('')\n",
        "fig.set_ylabel('DM-SNR Skewness')"
      ],
      "execution_count": null,
      "outputs": [
        {
          "output_type": "execute_result",
          "data": {
            "text/plain": [
              "Text(0, 0.5, 'DM-SNR Skewness')"
            ]
          },
          "metadata": {},
          "execution_count": 24
        },
        {
          "output_type": "display_data",
          "data": {
            "image/png": "[encoded data removed]",
            "text/plain": [
              "<Figure size 864x1440 with 8 Axes>"
            ]
          },
          "metadata": {
            "needs_background": "light"
          }
        }
      ]
    },
    {
      "cell_type": "code",
      "metadata": {
        "colab": {
          "base_uri": "https://localhost:8080/"
        },
        "id": "jaxUUhhC-1w2",
        "outputId": "ad35bd71-cf7f-4a49-d466-6d7394238693"
      },
      "source": [
        "from sklearn.svm import SVC\n",
        "from sklearn.metrics import accuracy_score\n",
        "svc=SVC(C=100.0)\n",
        "svc.fit(X_train,y_train)\n",
        "y_pred=svc.predict(X_test)\n",
        "print('Model accuracy score with rbf and C=100.0: {0:0.4f}'.\n",
        "format(accuracy_score(y_test, y_pred)))"
      ],
      "execution_count": null,
      "outputs": [
        {
          "output_type": "stream",
          "name": "stdout",
          "text": [
            "Model accuracy score with rbf and C=100.0: 0.9763\n"
          ]
        }
      ]
    },
    {
      "cell_type": "code",
      "metadata": {
        "colab": {
          "base_uri": "https://localhost:8080/"
        },
        "id": "FqGR4V4r-1zm",
        "outputId": "79330eda-f016-47ae-f7fb-542350c4d3b4"
      },
      "source": [
        "y_pred_train = svc.predict(X_train)\n",
        "y_pred_train"
      ],
      "execution_count": null,
      "outputs": [
        {
          "output_type": "execute_result",
          "data": {
            "text/plain": [
              "array([0., 0., 0., ..., 0., 0., 0.])"
            ]
          },
          "metadata": {},
          "execution_count": 27
        }
      ]
    },
    {
      "cell_type": "code",
      "metadata": {
        "colab": {
          "base_uri": "https://localhost:8080/"
        },
        "id": "Oumf0x5s-12-",
        "outputId": "6166730d-9de2-4653-89ff-9aad4e039e3a"
      },
      "source": [
        "print('Training-set accuracy score: {0:0.4f}'.\n",
        "format(accuracy_score(y_train, y_pred_train)))"
      ],
      "execution_count": null,
      "outputs": [
        {
          "output_type": "stream",
          "name": "stdout",
          "text": [
            "Training-set accuracy score: 0.9848\n"
          ]
        }
      ]
    },
    {
      "cell_type": "code",
      "metadata": {
        "colab": {
          "base_uri": "https://localhost:8080/"
        },
        "id": "Jw_o5_Qf-n7e",
        "outputId": "72778c33-3ae0-41f2-d321-28fc6e5c4e02"
      },
      "source": [
        "print('Training set score: {:.4f}'.format(svc.score(X_train, y_train)))\n",
        "print('Test set score: {:.4f}'.format(svc.score(X_test, y_test)))"
      ],
      "execution_count": null,
      "outputs": [
        {
          "output_type": "stream",
          "name": "stdout",
          "text": [
            "Training set score: 0.9848\n",
            "Test set score: 0.9763\n"
          ]
        }
      ]
    },
    {
      "cell_type": "code",
      "metadata": {
        "colab": {
          "base_uri": "https://localhost:8080/"
        },
        "id": "3ZZglk92_bxs",
        "outputId": "a9b22c0b-61c7-4276-c865-c2b20e71542f"
      },
      "source": [
        "from sklearn.metrics import confusion_matrix\n",
        "cm = confusion_matrix(y_test, y_pred)\n",
        "print('Confusion matrix\\n\\n', cm)\n",
        "print('\\nTrue Positives(TP) = ', cm[0,0])\n",
        "print('\\nTrue Negatives(TN) = ', cm[1,1])\n",
        "print('\\nFalse Positives(FP) = ', cm[0,1])\n",
        "print('\\nFalse Negatives(FN) = ', cm[1,0])"
      ],
      "execution_count": null,
      "outputs": [
        {
          "output_type": "stream",
          "name": "stdout",
          "text": [
            "Confusion matrix\n",
            "\n",
            " [[1672   12]\n",
            " [  32  139]]\n",
            "\n",
            "True Positives(TP) =  1672\n",
            "\n",
            "True Negatives(TN) =  139\n",
            "\n",
            "False Positives(FP) =  12\n",
            "\n",
            "False Negatives(FN) =  32\n"
          ]
        }
      ]
    },
    {
      "cell_type": "code",
      "metadata": {
        "colab": {
          "base_uri": "https://localhost:8080/",
          "height": 282
        },
        "id": "VmG67tXP_fPr",
        "outputId": "1328ef7f-0f9f-4418-cce5-8e9666f27842"
      },
      "source": [
        "cm_matrix = pd.DataFrame(data=cm, columns=['Actual Positive:1', 'Actual Negative:0'],\n",
        "index=['Predict Positive:1', 'Predict Negative:0'])\n",
        "sns.heatmap(cm_matrix, annot=True, fmt='d', cmap='coolwarm')"
      ],
      "execution_count": null,
      "outputs": [
        {
          "output_type": "execute_result",
          "data": {
            "text/plain": [
              "<matplotlib.axes._subplots.AxesSubplot at 0x7fbb182bea90>"
            ]
          },
          "metadata": {},
          "execution_count": 31
        },
        {
          "output_type": "display_data",
          "data": {
            "image/png": "[encoded data removed]",
            "text/plain": [
              "<Figure size 432x288 with 2 Axes>"
            ]
          },
          "metadata": {
            "needs_background": "light"
          }
        }
      ]
    },
    {
      "cell_type": "code",
      "metadata": {
        "colab": {
          "base_uri": "https://localhost:8080/"
        },
        "id": "LFDYlinM_fR2",
        "outputId": "390bdbd3-3db0-4194-fb71-05a37347127c"
      },
      "source": [
        "poly_svc=SVC(kernel='poly', C=100.0)\n",
        "poly_svc.fit(X_train, y_train)\n",
        "y_pred=poly_svc.predict(X_test)\n",
        "print('Model accuracy score with polynomial kernel and C=100.0 :{0:0.4f}'. format(accuracy_score(y_test, y_pred)))"
      ],
      "execution_count": null,
      "outputs": [
        {
          "output_type": "stream",
          "name": "stdout",
          "text": [
            "Model accuracy score with polynomial kernel and C=100.0 :0.9725\n"
          ]
        }
      ]
    },
    {
      "cell_type": "code",
      "metadata": {
        "colab": {
          "base_uri": "https://localhost:8080/"
        },
        "id": "_ZLIa3xw_fUH",
        "outputId": "3671d2a1-3cb1-49d5-d861-f2647161470e"
      },
      "source": [
        "y_pred_train = poly_svc.predict(X_train)\n",
        "print('Training-set accuracy score: {0:0.4f}'.\n",
        "format(accuracy_score(y_train, y_pred_train)))"
      ],
      "execution_count": null,
      "outputs": [
        {
          "output_type": "stream",
          "name": "stdout",
          "text": [
            "Training-set accuracy score: 0.9810\n"
          ]
        }
      ]
    },
    {
      "cell_type": "code",
      "metadata": {
        "colab": {
          "base_uri": "https://localhost:8080/"
        },
        "id": "3xumQJcB_fXj",
        "outputId": "39995288-3383-4223-b974-3bd46c009163"
      },
      "source": [
        "print('Training set score: {:.4f}'.format(svc.score(X_train, y_train)))\n",
        "print('Test set score: {:.4f}'.format(svc.score(X_test, y_test)))"
      ],
      "execution_count": null,
      "outputs": [
        {
          "output_type": "stream",
          "name": "stdout",
          "text": [
            "Training set score: 0.9848\n",
            "Test set score: 0.9763\n"
          ]
        }
      ]
    },
    {
      "cell_type": "code",
      "metadata": {
        "colab": {
          "base_uri": "https://localhost:8080/"
        },
        "id": "4BBzufVL_y6i",
        "outputId": "a3aeef4a-468e-475a-c6b1-fb3dcf54bdc2"
      },
      "source": [
        "from sklearn.metrics import confusion_matrix\n",
        "cm = confusion_matrix(y_test, y_pred)\n",
        "print('Confusion matrix\\n\\n', cm)\n",
        "print('\\nTrue Positives(TP) = ', cm[0,0])\n",
        "print('\\nTrue Negatives(TN) = ', cm[1,1])\n",
        "print('\\nFalse Positives(FP) = ', cm[0,1])\n",
        "print('\\nFalse Negatives(FN) = ', cm[1,0])"
      ],
      "execution_count": null,
      "outputs": [
        {
          "output_type": "stream",
          "name": "stdout",
          "text": [
            "Confusion matrix\n",
            "\n",
            " [[1670   14]\n",
            " [  37  134]]\n",
            "\n",
            "True Positives(TP) =  1670\n",
            "\n",
            "True Negatives(TN) =  134\n",
            "\n",
            "False Positives(FP) =  14\n",
            "\n",
            "False Negatives(FN) =  37\n"
          ]
        }
      ]
    },
    {
      "cell_type": "code",
      "metadata": {
        "colab": {
          "base_uri": "https://localhost:8080/",
          "height": 282
        },
        "id": "g7FkyzYd_6kt",
        "outputId": "755f6b19-3050-45a0-8b60-fe8c3c8ce7d9"
      },
      "source": [
        "cm_matrix = pd.DataFrame(data=cm, columns=['Actual Positive:1', 'Actual Negative:0'],\n",
        "index=['Predict Positive:1', 'Predict Negative:0'])\n",
        "sns.heatmap(cm_matrix, annot=True, fmt='d', cmap='coolwarm')"
      ],
      "execution_count": null,
      "outputs": [
        {
          "output_type": "execute_result",
          "data": {
            "text/plain": [
              "<matplotlib.axes._subplots.AxesSubplot at 0x7fbb19adae90>"
            ]
          },
          "metadata": {},
          "execution_count": 37
        },
        {
          "output_type": "display_data",
          "data": {
            "image/png": "[encoded data removed]",
            "text/plain": [
              "<Figure size 432x288 with 2 Axes>"
            ]
          },
          "metadata": {
            "needs_background": "light"
          }
        }
      ]
    }
  ]
}