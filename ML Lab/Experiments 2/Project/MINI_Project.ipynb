{
  "nbformat": 4,
  "nbformat_minor": 0,
  "metadata": {
    "colab": {
      "name": "MINI_Project.ipynb",
      "provenance": [],
      "collapsed_sections": []
    },
    "kernelspec": {
      "name": "python3",
      "display_name": "Python 3"
    },
    "language_info": {
      "name": "python"
    },
    "accelerator": "TPU"
  },
  "cells": [
    {
      "cell_type": "markdown",
      "metadata": {
        "id": "K4LPtv6AvLJ9"
      },
      "source": [
        "Attribute Information:\n",
        "\n",
        "Listing of attributes:\n",
        "\n",
        ">50K, <=50K.\n",
        "\n",
        "**age**: continuous.\n",
        "**workclass**: Private, Self-emp-not-inc, Self-emp-inc, Federal-gov, Local-gov, State-gov, Without-pay, Never-worked.\n",
        "**fnlwgt**: continuous.\n",
        "**education**: Bachelors, Some-college, 11th, HS-grad, Prof-school, Assoc-acdm, Assoc-voc, 9th, 7th-8th, 12th, Masters, 1st-4th, 10th, Doctorate, 5th-6th, Preschool.\n",
        "**education**-**num**: continuous.\n",
        "**marital**-**status**: Married-civ-spouse, Divorced, Never-married, Separated, Widowed, Married-spouse-absent, Married-AF-spouse.\n",
        "**occupation**: Tech-support, Craft-repair, Other-service, Sales, Exec-managerial, Prof-specialty, Handlers-cleaners, Machine-op-inspct, Adm-clerical, Farming-fishing, Transport-moving, Priv-house-serv, Protective-serv, Armed-Forces.\n",
        "**relationship**: Wife, Own-child, Husband, Not-in-family, Other-relative, Unmarried.\n",
        "**race**: White, Asian-Pac-Islander, Amer-Indian-Eskimo, Other, Black.\n",
        "**sex**: Female, Male.\n",
        "**capital**-**gain**: continuous.\n",
        "**capital**-**loss**: continuous.\n",
        "**hours**-**per**-**week**: continuous.\n",
        "**native**-country: United-States, Cambodia, England, Puerto-Rico, Canada, Germany, Outlying-US(Guam-USVI-etc), India, Japan, Greece, South, China, Cuba, Iran, Honduras, Philippines, Italy, Poland, Jamaica, Vietnam, Mexico, Portugal, Ireland, France, Dominican-Republic, Laos, Ecuador, Taiwan, Haiti, Columbia, Hungary, Guatemala, Nicaragua, Scotland, Thailand, Yugoslavia, El-Salvador, Trinadad&Tobago, Peru, Hong, Holand-Netherlands.\n",
        "\n"
      ]
    },
    {
      "cell_type": "code",
      "metadata": {
        "id": "o8BDjRoEvW9o"
      },
      "source": [
        "import numpy as np\n",
        "import pandas as pd \n",
        "import matplotlib.pyplot as plt\n",
        "import seaborn  as sns \n",
        "%matplotlib inline"
      ],
      "execution_count": null,
      "outputs": []
    },
    {
      "cell_type": "code",
      "metadata": {
        "id": "3_nvCrrgzJwl"
      },
      "source": [
        "df = pd.read_csv('/content/adult.data',sep=',')"
      ],
      "execution_count": null,
      "outputs": []
    },
    {
      "cell_type": "code",
      "metadata": {
        "colab": {
          "base_uri": "https://localhost:8080/",
          "height": 204
        },
        "id": "xQ__DW4BzvmX",
        "outputId": "17fc1c42-ea8e-4c86-abdc-fc429880e876"
      },
      "source": [
        "df.head()"
      ],
      "execution_count": null,
      "outputs": [
        {
          "output_type": "execute_result",
          "data": {
            "text/html": [
              "<div>\n",
              "<style scoped>\n",
              "    .dataframe tbody tr th:only-of-type {\n",
              "        vertical-align: middle;\n",
              "    }\n",
              "\n",
              "    .dataframe tbody tr th {\n",
              "        vertical-align: top;\n",
              "    }\n",
              "\n",
              "    .dataframe thead th {\n",
              "        text-align: right;\n",
              "    }\n",
              "</style>\n",
              "<table border=\"1\" class=\"dataframe\">\n",
              "  <thead>\n",
              "    <tr style=\"text-align: right;\">\n",
              "      <th></th>\n",
              "      <th>AGE</th>\n",
              "      <th>WORKCLASS</th>\n",
              "      <th>FNLWGT</th>\n",
              "      <th>EDUCATION</th>\n",
              "      <th>EDUCATION-NUM</th>\n",
              "      <th>MARTIAL</th>\n",
              "      <th>OCCUPATION</th>\n",
              "      <th>RELATIONSHIP</th>\n",
              "      <th>RACE</th>\n",
              "      <th>SEX</th>\n",
              "      <th>CAPTIAL-GAIN</th>\n",
              "      <th>CAPITAL-LOSS</th>\n",
              "      <th>HOURS-PER-WEEK</th>\n",
              "      <th>NATIVE-COUNTRY</th>\n",
              "      <th>INCOME</th>\n",
              "    </tr>\n",
              "  </thead>\n",
              "  <tbody>\n",
              "    <tr>\n",
              "      <th>0</th>\n",
              "      <td>39</td>\n",
              "      <td>State-gov</td>\n",
              "      <td>77516</td>\n",
              "      <td>Bachelors</td>\n",
              "      <td>13</td>\n",
              "      <td>Never-married</td>\n",
              "      <td>Adm-clerical</td>\n",
              "      <td>Not-in-family</td>\n",
              "      <td>White</td>\n",
              "      <td>Male</td>\n",
              "      <td>2174</td>\n",
              "      <td>0</td>\n",
              "      <td>40</td>\n",
              "      <td>United-States</td>\n",
              "      <td>&lt;=50K</td>\n",
              "    </tr>\n",
              "    <tr>\n",
              "      <th>1</th>\n",
              "      <td>50</td>\n",
              "      <td>Self-emp-not-inc</td>\n",
              "      <td>83311</td>\n",
              "      <td>Bachelors</td>\n",
              "      <td>13</td>\n",
              "      <td>Married-civ-spouse</td>\n",
              "      <td>Exec-managerial</td>\n",
              "      <td>Husband</td>\n",
              "      <td>White</td>\n",
              "      <td>Male</td>\n",
              "      <td>0</td>\n",
              "      <td>0</td>\n",
              "      <td>13</td>\n",
              "      <td>United-States</td>\n",
              "      <td>&lt;=50K</td>\n",
              "    </tr>\n",
              "    <tr>\n",
              "      <th>2</th>\n",
              "      <td>38</td>\n",
              "      <td>Private</td>\n",
              "      <td>215646</td>\n",
              "      <td>HS-grad</td>\n",
              "      <td>9</td>\n",
              "      <td>Divorced</td>\n",
              "      <td>Handlers-cleaners</td>\n",
              "      <td>Not-in-family</td>\n",
              "      <td>White</td>\n",
              "      <td>Male</td>\n",
              "      <td>0</td>\n",
              "      <td>0</td>\n",
              "      <td>40</td>\n",
              "      <td>United-States</td>\n",
              "      <td>&lt;=50K</td>\n",
              "    </tr>\n",
              "    <tr>\n",
              "      <th>3</th>\n",
              "      <td>53</td>\n",
              "      <td>Private</td>\n",
              "      <td>234721</td>\n",
              "      <td>11th</td>\n",
              "      <td>7</td>\n",
              "      <td>Married-civ-spouse</td>\n",
              "      <td>Handlers-cleaners</td>\n",
              "      <td>Husband</td>\n",
              "      <td>Black</td>\n",
              "      <td>Male</td>\n",
              "      <td>0</td>\n",
              "      <td>0</td>\n",
              "      <td>40</td>\n",
              "      <td>United-States</td>\n",
              "      <td>&lt;=50K</td>\n",
              "    </tr>\n",
              "    <tr>\n",
              "      <th>4</th>\n",
              "      <td>28</td>\n",
              "      <td>Private</td>\n",
              "      <td>338409</td>\n",
              "      <td>Bachelors</td>\n",
              "      <td>13</td>\n",
              "      <td>Married-civ-spouse</td>\n",
              "      <td>Prof-specialty</td>\n",
              "      <td>Wife</td>\n",
              "      <td>Black</td>\n",
              "      <td>Female</td>\n",
              "      <td>0</td>\n",
              "      <td>0</td>\n",
              "      <td>40</td>\n",
              "      <td>Cuba</td>\n",
              "      <td>&lt;=50K</td>\n",
              "    </tr>\n",
              "  </tbody>\n",
              "</table>\n",
              "</div>"
            ],
            "text/plain": [
              "   AGE          WORKCLASS  FNLWGT  ... HOURS-PER-WEEK  NATIVE-COUNTRY  INCOME\n",
              "0   39          State-gov   77516  ...             40   United-States   <=50K\n",
              "1   50   Self-emp-not-inc   83311  ...             13   United-States   <=50K\n",
              "2   38            Private  215646  ...             40   United-States   <=50K\n",
              "3   53            Private  234721  ...             40   United-States   <=50K\n",
              "4   28            Private  338409  ...             40            Cuba   <=50K\n",
              "\n",
              "[5 rows x 15 columns]"
            ]
          },
          "metadata": {},
          "execution_count": 6
        }
      ]
    },
    {
      "cell_type": "code",
      "metadata": {
        "colab": {
          "base_uri": "https://localhost:8080/"
        },
        "id": "IUVtAw5ezwxX",
        "outputId": "f8dfbea1-e284-44d9-90fe-03f6d8c562a5"
      },
      "source": [
        "df.info()"
      ],
      "execution_count": null,
      "outputs": [
        {
          "output_type": "stream",
          "name": "stdout",
          "text": [
            "<class 'pandas.core.frame.DataFrame'>\n",
            "RangeIndex: 32561 entries, 0 to 32560\n",
            "Data columns (total 15 columns):\n",
            " #   Column          Non-Null Count  Dtype \n",
            "---  ------          --------------  ----- \n",
            " 0   AGE             32561 non-null  int64 \n",
            " 1   WORKCLASS       32561 non-null  object\n",
            " 2   FNLWGT          32561 non-null  int64 \n",
            " 3   EDUCATION       32561 non-null  object\n",
            " 4   EDUCATION-NUM   32561 non-null  int64 \n",
            " 5   MARTIAL         32561 non-null  object\n",
            " 6   OCCUPATION      32561 non-null  object\n",
            " 7   RELATIONSHIP    32561 non-null  object\n",
            " 8   RACE            32561 non-null  object\n",
            " 9   SEX             32561 non-null  object\n",
            " 10  CAPTIAL-GAIN    32561 non-null  int64 \n",
            " 11  CAPITAL-LOSS    32561 non-null  int64 \n",
            " 12  HOURS-PER-WEEK  32561 non-null  int64 \n",
            " 13  NATIVE-COUNTRY  32561 non-null  object\n",
            " 14  INCOME          32561 non-null  object\n",
            "dtypes: int64(6), object(9)\n",
            "memory usage: 3.7+ MB\n"
          ]
        }
      ]
    },
    {
      "cell_type": "code",
      "metadata": {
        "id": "Ny9OBf_G2ZiB",
        "colab": {
          "base_uri": "https://localhost:8080/"
        },
        "outputId": "475e9ec7-b3bc-4074-bc75-2a86d3e7f799"
      },
      "source": [
        "#check null value in data\n",
        "df.isnull().sum()"
      ],
      "execution_count": null,
      "outputs": [
        {
          "output_type": "execute_result",
          "data": {
            "text/plain": [
              "AGE               0\n",
              "WORKCLASS         0\n",
              "FNLWGT            0\n",
              "EDUCATION         0\n",
              "EDUCATION-NUM     0\n",
              "MARTIAL           0\n",
              "OCCUPATION        0\n",
              "RELATIONSHIP      0\n",
              "RACE              0\n",
              "SEX               0\n",
              "CAPTIAL-GAIN      0\n",
              "CAPITAL-LOSS      0\n",
              "HOURS-PER-WEEK    0\n",
              "NATIVE-COUNTRY    0\n",
              "INCOME            0\n",
              "dtype: int64"
            ]
          },
          "metadata": {},
          "execution_count": 8
        }
      ]
    },
    {
      "cell_type": "code",
      "metadata": {
        "colab": {
          "base_uri": "https://localhost:8080/"
        },
        "id": "vGalV0fvwXWo",
        "outputId": "ca61cd7d-4810-4840-ea95-bd0edba8b23e"
      },
      "source": [
        "df['WORKCLASS'].value_counts()"
      ],
      "execution_count": null,
      "outputs": [
        {
          "output_type": "execute_result",
          "data": {
            "text/plain": [
              " Private             22696\n",
              " Self-emp-not-inc     2541\n",
              " Local-gov            2093\n",
              " ?                    1836\n",
              " State-gov            1298\n",
              " Self-emp-inc         1116\n",
              " Federal-gov           960\n",
              " Without-pay            14\n",
              " Never-worked            7\n",
              "Name: WORKCLASS, dtype: int64"
            ]
          },
          "metadata": {},
          "execution_count": 9
        }
      ]
    },
    {
      "cell_type": "code",
      "metadata": {
        "id": "i6DBu8iqx8Ri"
      },
      "source": [
        "x = df['WORKCLASS'].unique()\n",
        "k=x[5]\n",
        "df['WORKCLASS'] = df['WORKCLASS'].replace(k,'unknown')"
      ],
      "execution_count": null,
      "outputs": []
    },
    {
      "cell_type": "code",
      "metadata": {
        "colab": {
          "base_uri": "https://localhost:8080/"
        },
        "id": "fxBmaaT2hc_M",
        "outputId": "ad5b878b-4c76-4840-a566-c362df34ce2d"
      },
      "source": [
        "df['OCCUPATION'].value_counts()"
      ],
      "execution_count": null,
      "outputs": [
        {
          "output_type": "execute_result",
          "data": {
            "text/plain": [
              " Prof-specialty       4140\n",
              " Craft-repair         4099\n",
              " Exec-managerial      4066\n",
              " Adm-clerical         3770\n",
              " Sales                3650\n",
              " Other-service        3295\n",
              " Machine-op-inspct    2002\n",
              " ?                    1843\n",
              " Transport-moving     1597\n",
              " Handlers-cleaners    1370\n",
              " Farming-fishing       994\n",
              " Tech-support          928\n",
              " Protective-serv       649\n",
              " Priv-house-serv       149\n",
              " Armed-Forces            9\n",
              "Name: OCCUPATION, dtype: int64"
            ]
          },
          "metadata": {},
          "execution_count": 11
        }
      ]
    },
    {
      "cell_type": "code",
      "metadata": {
        "id": "-xJU0TdUhc8t"
      },
      "source": [
        "x = df['OCCUPATION'].unique()\n",
        "k=x[11] \n",
        "df['OCCUPATION'] = df['OCCUPATION'].replace(k,'unknown')"
      ],
      "execution_count": null,
      "outputs": []
    },
    {
      "cell_type": "code",
      "metadata": {
        "colab": {
          "base_uri": "https://localhost:8080/"
        },
        "id": "unsZEVtHowBM",
        "outputId": "dd59f314-e35c-4dad-cf23-aa377f526ae4"
      },
      "source": [
        "# Married-civ-spouse corresponds to a civilian spouse while Married-AF-spouse is a spouse in the Armed Forces.\n",
        "\n",
        "df['MARTIAL'].value_counts()  "
      ],
      "execution_count": null,
      "outputs": [
        {
          "output_type": "execute_result",
          "data": {
            "text/plain": [
              " Married-civ-spouse       14976\n",
              " Never-married            10683\n",
              " Divorced                  4443\n",
              " Separated                 1025\n",
              " Widowed                    993\n",
              " Married-spouse-absent      418\n",
              " Married-AF-spouse           23\n",
              "Name: MARTIAL, dtype: int64"
            ]
          },
          "metadata": {},
          "execution_count": 13
        }
      ]
    },
    {
      "cell_type": "code",
      "metadata": {
        "colab": {
          "base_uri": "https://localhost:8080/",
          "height": 514
        },
        "id": "gDQrEtSz6zLr",
        "outputId": "0649b0d4-7911-4c84-8902-61249cb6ef86"
      },
      "source": [
        "plt.figure(figsize=(14,8))\n",
        "sns.countplot(x='WORKCLASS',data=df,hue='INCOME') \n",
        "plt.legend()"
      ],
      "execution_count": null,
      "outputs": [
        {
          "output_type": "execute_result",
          "data": {
            "text/plain": [
              "<matplotlib.legend.Legend at 0x7fa268dd4410>"
            ]
          },
          "metadata": {},
          "execution_count": 14
        },
        {
          "output_type": "display_data",
          "data": {
            "image/png": "[encoded data removed]",
            "text/plain": [
              "<Figure size 1008x576 with 1 Axes>"
            ]
          },
          "metadata": {
            "needs_background": "light"
          }
        }
      ]
    },
    {
      "cell_type": "code",
      "metadata": {
        "colab": {
          "base_uri": "https://localhost:8080/",
          "height": 514
        },
        "id": "ULO4odxxgQ3R",
        "outputId": "ba0ed2d2-3450-4846-de42-9329f4287cba"
      },
      "source": [
        "plt.figure(figsize=(14,8))\n",
        "sns.countplot(x='MARTIAL',data=df,hue='INCOME') \n",
        "plt.legend()"
      ],
      "execution_count": null,
      "outputs": [
        {
          "output_type": "execute_result",
          "data": {
            "text/plain": [
              "<matplotlib.legend.Legend at 0x7fa268d046d0>"
            ]
          },
          "metadata": {},
          "execution_count": 15
        },
        {
          "output_type": "display_data",
          "data": {
            "image/png": "[encoded data removed]",
            "text/plain": [
              "<Figure size 1008x576 with 1 Axes>"
            ]
          },
          "metadata": {
            "needs_background": "light"
          }
        }
      ]
    },
    {
      "cell_type": "code",
      "metadata": {
        "colab": {
          "base_uri": "https://localhost:8080/",
          "height": 1000
        },
        "id": "8dUpISN_erX3",
        "outputId": "00707b91-e5e9-4ca8-823a-68f3f0bd06f0"
      },
      "source": [
        "plt.figure(figsize=(20,18))\n",
        "sns.countplot(x='OCCUPATION',data=df,hue='INCOME') \n",
        "plt.legend() \n",
        "plt.tight_layout()"
      ],
      "execution_count": null,
      "outputs": [
        {
          "output_type": "display_data",
          "data": {
            "image/png": "[encoded data removed]",
            "text/plain": [
              "<Figure size 1440x1296 with 1 Axes>"
            ]
          },
          "metadata": {
            "needs_background": "light"
          }
        }
      ]
    },
    {
      "cell_type": "code",
      "metadata": {
        "colab": {
          "base_uri": "https://localhost:8080/",
          "height": 514
        },
        "id": "bZX9AXwc9ZTx",
        "outputId": "f9ec1ab6-9709-4793-a2da-5bf57aaafb07"
      },
      "source": [
        "plt.figure(figsize=(14,8))\n",
        "sns.countplot(x='SEX',data=df,hue='INCOME') \n",
        "plt.legend()"
      ],
      "execution_count": null,
      "outputs": [
        {
          "output_type": "execute_result",
          "data": {
            "text/plain": [
              "<matplotlib.legend.Legend at 0x7fa268751210>"
            ]
          },
          "metadata": {},
          "execution_count": 17
        },
        {
          "output_type": "display_data",
          "data": {
            "image/png": "[encoded data removed]",
            "text/plain": [
              "<Figure size 1008x576 with 1 Axes>"
            ]
          },
          "metadata": {
            "needs_background": "light"
          }
        }
      ]
    },
    {
      "cell_type": "code",
      "metadata": {
        "colab": {
          "base_uri": "https://localhost:8080/",
          "height": 514
        },
        "id": "HM6DxnK9jlHd",
        "outputId": "df5ce196-5ba8-4640-e6a8-525bf3bca2fc"
      },
      "source": [
        "plt.figure(figsize=(14,8))\n",
        "sns.countplot(x='RACE',data=df,hue='INCOME') \n",
        "plt.legend()"
      ],
      "execution_count": null,
      "outputs": [
        {
          "output_type": "execute_result",
          "data": {
            "text/plain": [
              "<matplotlib.legend.Legend at 0x7fa25fec4150>"
            ]
          },
          "metadata": {},
          "execution_count": 18
        },
        {
          "output_type": "display_data",
          "data": {
            "image/png": "[encoded data removed]",
            "text/plain": [
              "<Figure size 1008x576 with 1 Axes>"
            ]
          },
          "metadata": {
            "needs_background": "light"
          }
        }
      ]
    },
    {
      "cell_type": "code",
      "metadata": {
        "id": "ES1AhtHYz4nF"
      },
      "source": [
        "X = df.drop('INCOME',axis=1) \n",
        "y = df['INCOME']"
      ],
      "execution_count": null,
      "outputs": []
    },
    {
      "cell_type": "code",
      "metadata": {
        "id": "5q8fBuJI1w3C"
      },
      "source": [
        "from sklearn.model_selection import train_test_split \n",
        "\n",
        "X_train, X_test, y_train, y_test = train_test_split(X, y, test_size=0.30, random_state=101)"
      ],
      "execution_count": null,
      "outputs": []
    },
    {
      "cell_type": "code",
      "metadata": {
        "id": "ernBD5TB2NMO",
        "colab": {
          "base_uri": "https://localhost:8080/"
        },
        "outputId": "cb1d6f46-7775-4d45-e0ae-08bf78abba3c"
      },
      "source": [
        "s = (X_train.dtypes=='object') \n",
        "object_cols = list(s[s].index) \n",
        "print('categorical variables') \n",
        "print(object_cols) "
      ],
      "execution_count": null,
      "outputs": [
        {
          "output_type": "stream",
          "name": "stdout",
          "text": [
            "categorical variables\n",
            "['WORKCLASS', 'EDUCATION', 'MARTIAL', 'OCCUPATION', 'RELATIONSHIP', 'RACE', 'SEX', 'NATIVE-COUNTRY']\n"
          ]
        }
      ]
    },
    {
      "cell_type": "code",
      "metadata": {
        "id": "vXSifWx4t1R4",
        "colab": {
          "base_uri": "https://localhost:8080/",
          "height": 204
        },
        "outputId": "09e39558-ec7a-45e1-cc7a-0d5bf8c1d3db"
      },
      "source": [
        "from sklearn.preprocessing import OrdinalEncoder  \n",
        "\n",
        "label_X_train = X_train.copy() \n",
        "label_X_test  = X_test.copy() \n",
        "\n",
        "ordinal_encoder = OrdinalEncoder() \n",
        "label_X_train[object_cols] = ordinal_encoder.fit_transform(X_train[object_cols]) \n",
        "label_X_test[object_cols]  = ordinal_encoder.transform(X_test[object_cols])\n",
        "label_X_train.head()"
      ],
      "execution_count": null,
      "outputs": [
        {
          "output_type": "execute_result",
          "data": {
            "text/html": [
              "<div>\n",
              "<style scoped>\n",
              "    .dataframe tbody tr th:only-of-type {\n",
              "        vertical-align: middle;\n",
              "    }\n",
              "\n",
              "    .dataframe tbody tr th {\n",
              "        vertical-align: top;\n",
              "    }\n",
              "\n",
              "    .dataframe thead th {\n",
              "        text-align: right;\n",
              "    }\n",
              "</style>\n",
              "<table border=\"1\" class=\"dataframe\">\n",
              "  <thead>\n",
              "    <tr style=\"text-align: right;\">\n",
              "      <th></th>\n",
              "      <th>AGE</th>\n",
              "      <th>WORKCLASS</th>\n",
              "      <th>FNLWGT</th>\n",
              "      <th>EDUCATION</th>\n",
              "      <th>EDUCATION-NUM</th>\n",
              "      <th>MARTIAL</th>\n",
              "      <th>OCCUPATION</th>\n",
              "      <th>RELATIONSHIP</th>\n",
              "      <th>RACE</th>\n",
              "      <th>SEX</th>\n",
              "      <th>CAPTIAL-GAIN</th>\n",
              "      <th>CAPITAL-LOSS</th>\n",
              "      <th>HOURS-PER-WEEK</th>\n",
              "      <th>NATIVE-COUNTRY</th>\n",
              "    </tr>\n",
              "  </thead>\n",
              "  <tbody>\n",
              "    <tr>\n",
              "      <th>20895</th>\n",
              "      <td>22</td>\n",
              "      <td>3.0</td>\n",
              "      <td>129508</td>\n",
              "      <td>11.0</td>\n",
              "      <td>9</td>\n",
              "      <td>4.0</td>\n",
              "      <td>0.0</td>\n",
              "      <td>3.0</td>\n",
              "      <td>4.0</td>\n",
              "      <td>0.0</td>\n",
              "      <td>0</td>\n",
              "      <td>0</td>\n",
              "      <td>28</td>\n",
              "      <td>39.0</td>\n",
              "    </tr>\n",
              "    <tr>\n",
              "      <th>3384</th>\n",
              "      <td>47</td>\n",
              "      <td>3.0</td>\n",
              "      <td>151267</td>\n",
              "      <td>11.0</td>\n",
              "      <td>9</td>\n",
              "      <td>2.0</td>\n",
              "      <td>6.0</td>\n",
              "      <td>5.0</td>\n",
              "      <td>2.0</td>\n",
              "      <td>0.0</td>\n",
              "      <td>15024</td>\n",
              "      <td>0</td>\n",
              "      <td>40</td>\n",
              "      <td>39.0</td>\n",
              "    </tr>\n",
              "    <tr>\n",
              "      <th>1832</th>\n",
              "      <td>46</td>\n",
              "      <td>1.0</td>\n",
              "      <td>272780</td>\n",
              "      <td>15.0</td>\n",
              "      <td>10</td>\n",
              "      <td>2.0</td>\n",
              "      <td>9.0</td>\n",
              "      <td>0.0</td>\n",
              "      <td>4.0</td>\n",
              "      <td>1.0</td>\n",
              "      <td>0</td>\n",
              "      <td>0</td>\n",
              "      <td>24</td>\n",
              "      <td>39.0</td>\n",
              "    </tr>\n",
              "    <tr>\n",
              "      <th>18919</th>\n",
              "      <td>46</td>\n",
              "      <td>6.0</td>\n",
              "      <td>314770</td>\n",
              "      <td>15.0</td>\n",
              "      <td>10</td>\n",
              "      <td>0.0</td>\n",
              "      <td>0.0</td>\n",
              "      <td>4.0</td>\n",
              "      <td>4.0</td>\n",
              "      <td>0.0</td>\n",
              "      <td>0</td>\n",
              "      <td>0</td>\n",
              "      <td>48</td>\n",
              "      <td>39.0</td>\n",
              "    </tr>\n",
              "    <tr>\n",
              "      <th>31685</th>\n",
              "      <td>60</td>\n",
              "      <td>3.0</td>\n",
              "      <td>389254</td>\n",
              "      <td>11.0</td>\n",
              "      <td>9</td>\n",
              "      <td>2.0</td>\n",
              "      <td>0.0</td>\n",
              "      <td>0.0</td>\n",
              "      <td>4.0</td>\n",
              "      <td>1.0</td>\n",
              "      <td>0</td>\n",
              "      <td>0</td>\n",
              "      <td>40</td>\n",
              "      <td>39.0</td>\n",
              "    </tr>\n",
              "  </tbody>\n",
              "</table>\n",
              "</div>"
            ],
            "text/plain": [
              "       AGE  WORKCLASS  FNLWGT  ...  CAPITAL-LOSS  HOURS-PER-WEEK  NATIVE-COUNTRY\n",
              "20895   22        3.0  129508  ...             0              28            39.0\n",
              "3384    47        3.0  151267  ...             0              40            39.0\n",
              "1832    46        1.0  272780  ...             0              24            39.0\n",
              "18919   46        6.0  314770  ...             0              48            39.0\n",
              "31685   60        3.0  389254  ...             0              40            39.0\n",
              "\n",
              "[5 rows x 14 columns]"
            ]
          },
          "metadata": {},
          "execution_count": 22
        }
      ]
    },
    {
      "cell_type": "code",
      "metadata": {
        "colab": {
          "base_uri": "https://localhost:8080/"
        },
        "id": "_6b1G9wh2l56",
        "outputId": "d4d1888f-7149-42c1-b5ba-66fc7a36921a"
      },
      "source": [
        "from sklearn.tree import DecisionTreeClassifier \n",
        "from sklearn.metrics import classification_report\n",
        "from sklearn.metrics import accuracy_score,confusion_matrix \n",
        "\n",
        "for i in [5,50,500,5000,30000]:\n",
        "  dt  = DecisionTreeClassifier(max_leaf_nodes=i) \n",
        "  dt.fit(label_X_train,y_train) \n",
        "  y_pred = dt.predict(label_X_test)  \n",
        "  acc = accuracy_score(y_test,y_pred) \n",
        "  print(f'{confusion_matrix(y_test,y_pred)}, accuracy : {acc}') \n",
        "  print()\n",
        "print(classification_report(y_test, y_pred))"
      ],
      "execution_count": null,
      "outputs": [
        {
          "output_type": "stream",
          "name": "stdout",
          "text": [
            "[[7107  329]\n",
            " [1198 1135]], accuracy : 0.8436892210052206\n",
            "\n",
            "[[6962  474]\n",
            " [ 880 1453]], accuracy : 0.8613983007472618\n",
            "\n",
            "[[6870  566]\n",
            " [ 854 1479]], accuracy : 0.8546422356433616\n",
            "\n",
            "[[6458  978]\n",
            " [ 814 1519]], accuracy : 0.8165625959668339\n",
            "\n",
            "[[6419 1017]\n",
            " [ 806 1527]], accuracy : 0.8133892926604566\n",
            "\n",
            "              precision    recall  f1-score   support\n",
            "\n",
            "       <=50K       0.89      0.86      0.88      7436\n",
            "        >50K       0.60      0.65      0.63      2333\n",
            "\n",
            "    accuracy                           0.81      9769\n",
            "   macro avg       0.74      0.76      0.75      9769\n",
            "weighted avg       0.82      0.81      0.82      9769\n",
            "\n"
          ]
        }
      ]
    },
    {
      "cell_type": "code",
      "metadata": {
        "id": "K2YmZLGX27Gm",
        "colab": {
          "base_uri": "https://localhost:8080/"
        },
        "outputId": "ebc1afd6-a205-43ba-bc8d-9dd94ccf6ee9"
      },
      "source": [
        "from sklearn.ensemble import RandomForestClassifier \n",
        "\n",
        "rf =RandomForestClassifier(random_state=0,oob_score=True) \n",
        "rf.fit(label_X_train,y_train) \n",
        "y_pred2 = rf.predict(label_X_test) \n",
        "acc = accuracy_score(y_test,y_pred2) \n",
        "print('accuracy : ',acc) \n",
        "print(classification_report(y_test, y_pred2))"
      ],
      "execution_count": null,
      "outputs": [
        {
          "output_type": "stream",
          "name": "stdout",
          "text": [
            "accuracy :  0.8592486436687481\n",
            "              precision    recall  f1-score   support\n",
            "\n",
            "       <=50K       0.89      0.93      0.91      7436\n",
            "        >50K       0.74      0.63      0.68      2333\n",
            "\n",
            "    accuracy                           0.86      9769\n",
            "   macro avg       0.81      0.78      0.80      9769\n",
            "weighted avg       0.85      0.86      0.86      9769\n",
            "\n"
          ]
        }
      ]
    },
    {
      "cell_type": "code",
      "metadata": {
        "id": "lZSZtH883MbJ",
        "colab": {
          "base_uri": "https://localhost:8080/"
        },
        "outputId": "517dd38c-bf90-45f0-d0bd-9d5a82b494c4"
      },
      "source": [
        "from sklearn.linear_model import LogisticRegression \n",
        "lr = LogisticRegression() \n",
        "lr.fit(label_X_train,y_train) \n",
        "y_pred3=lr.predict(label_X_test) \n",
        "acc = accuracy_score(y_test,y_pred3) \n",
        "print('accuracy : ',acc)\n",
        "print(classification_report(y_test, y_pred3))"
      ],
      "execution_count": null,
      "outputs": [
        {
          "output_type": "stream",
          "name": "stdout",
          "text": [
            "accuracy :  0.806223769065411\n",
            "              precision    recall  f1-score   support\n",
            "\n",
            "       <=50K       0.81      0.97      0.88      7436\n",
            "        >50K       0.75      0.28      0.41      2333\n",
            "\n",
            "    accuracy                           0.81      9769\n",
            "   macro avg       0.78      0.63      0.65      9769\n",
            "weighted avg       0.80      0.81      0.77      9769\n",
            "\n"
          ]
        }
      ]
    },
    {
      "cell_type": "code",
      "metadata": {
        "colab": {
          "base_uri": "https://localhost:8080/"
        },
        "id": "R0fmnDALr2Xi",
        "outputId": "07c67f11-624e-49e0-dc74-787cc56408b9"
      },
      "source": [
        "from sklearn.neighbors import KNeighborsClassifier\n",
        "\n",
        "model = KNeighborsClassifier(n_neighbors=5) \n",
        "model.fit(label_X_train,y_train) \n",
        "y_pred4 = model.predict(label_X_test) \n",
        "acc = accuracy_score(y_test,y_pred4) \n",
        "print('accuracy : ' ,acc) \n",
        "print(classification_report(y_test, y_pred4))"
      ],
      "execution_count": null,
      "outputs": [
        {
          "output_type": "stream",
          "name": "stdout",
          "text": [
            "accuracy :  0.7771522161940834\n",
            "              precision    recall  f1-score   support\n",
            "\n",
            "       <=50K       0.81      0.92      0.86      7436\n",
            "        >50K       0.56      0.32      0.41      2333\n",
            "\n",
            "    accuracy                           0.78      9769\n",
            "   macro avg       0.69      0.62      0.64      9769\n",
            "weighted avg       0.75      0.78      0.75      9769\n",
            "\n"
          ]
        }
      ]
    },
    {
      "cell_type": "code",
      "metadata": {
        "colab": {
          "base_uri": "https://localhost:8080/",
          "height": 421
        },
        "id": "XtCPVY1wsogj",
        "outputId": "c573e9f2-d2ef-4243-8db1-fde6456bda31"
      },
      "source": [
        "error = []\n",
        "\n",
        "# Calculating error for K values between 1 and 40\n",
        "for i in range(1, 40):\n",
        "    knn = KNeighborsClassifier(n_neighbors=i)\n",
        "    knn.fit(label_X_train, y_train)\n",
        "    pred_i = knn.predict(label_X_test)\n",
        "    error.append(np.mean(pred_i != y_test)) \n",
        "\n",
        "\n",
        "plt.figure(figsize=(12, 6))\n",
        "plt.plot(range(1, 40), error, color='red', linestyle='dashed', marker='o',\n",
        "         markerfacecolor='blue', markersize=10)\n",
        "plt.title('Error Rate K Value')\n",
        "plt.xlabel('K Value')\n",
        "plt.ylabel('Mean Error')    "
      ],
      "execution_count": null,
      "outputs": [
        {
          "output_type": "execute_result",
          "data": {
            "text/plain": [
              "Text(0, 0.5, 'Mean Error')"
            ]
          },
          "metadata": {},
          "execution_count": 27
        },
        {
          "output_type": "display_data",
          "data": {
            "image/png": "[encoded data removed]",
            "text/plain": [
              "<Figure size 864x432 with 1 Axes>"
            ]
          },
          "metadata": {
            "needs_background": "light"
          }
        }
      ]
    },
    {
      "cell_type": "code",
      "metadata": {
        "id": "zyIewODnzluL"
      },
      "source": [
        "accuracies=[]\n",
        "nns=[]     \n",
        "for i in range(10,40):\n",
        "  knn = KNeighborsClassifier(n_neighbors=i) \n",
        "  knn.fit(label_X_train,y_train) \n",
        "  y_pred5 = knn.predict(label_X_test) \n",
        "  acc = accuracy_score(y_test,y_pred5) \n",
        "  accuracies.append(acc) \n",
        "  nns.append(i)\n",
        "\n"
      ],
      "execution_count": null,
      "outputs": []
    },
    {
      "cell_type": "code",
      "metadata": {
        "colab": {
          "base_uri": "https://localhost:8080/"
        },
        "id": "NhRqpw-Cz7ZG",
        "outputId": "276e3341-6add-43c0-bef6-6adf6e585510"
      },
      "source": [
        "print('clearly we can see that at k=15 we have the highest accuracy for algo : {}'.format(max(accuracies)))"
      ],
      "execution_count": null,
      "outputs": [
        {
          "output_type": "stream",
          "name": "stdout",
          "text": [
            "clearly we can see that at k=15 we have the highest accuracy for algo : 0.8039717473641109\n"
          ]
        }
      ]
    },
    {
      "cell_type": "code",
      "metadata": {
        "id": "-c6AXPKR1vgK"
      },
      "source": [
        "knn = KNeighborsClassifier(n_neighbors=15)\n",
        "knn.fit(label_X_train, y_train)\n",
        "y_pred5 = knn.predict(label_X_test)\n"
      ],
      "execution_count": null,
      "outputs": []
    },
    {
      "cell_type": "code",
      "metadata": {
        "id": "KCd5wdRQtmEF",
        "colab": {
          "base_uri": "https://localhost:8080/"
        },
        "outputId": "23cb7b83-e58a-4f65-9453-dff6cd18eb30"
      },
      "source": [
        "from sklearn.metrics import confusion_matrix\n",
        "print(confusion_matrix(y_test,y_pred2)) #random forest\n",
        "print() \n",
        "print(confusion_matrix(y_test,y_pred3)) #logistic\n",
        "print() \n",
        "print(confusion_matrix(y_test,y_pred5)) #knn at k=15\n",
        "print() "
      ],
      "execution_count": null,
      "outputs": [
        {
          "output_type": "stream",
          "name": "stdout",
          "text": [
            "[[6916  520]\n",
            " [ 855 1478]]\n",
            "\n",
            "[[7214  222]\n",
            " [1671  662]]\n",
            "\n",
            "[[7295  141]\n",
            " [1785  548]]\n",
            "\n"
          ]
        }
      ]
    }
  ]
}