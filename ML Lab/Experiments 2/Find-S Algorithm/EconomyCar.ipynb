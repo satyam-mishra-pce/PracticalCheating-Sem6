{
  "nbformat": 4,
  "nbformat_minor": 0,
  "metadata": {
    "colab": {
      "name": "EconomyCar.ipynb",
      "provenance": [],
      "collapsed_sections": []
    },
    "kernelspec": {
      "name": "python3",
      "display_name": "Python 3"
    },
    "language_info": {
      "name": "python"
    }
  },
  "cells": [
    {
      "cell_type": "code",
      "metadata": {
        "colab": {
          "base_uri": "https://localhost:8080/"
        },
        "id": "fbCA5mySFUkp",
        "outputId": "af817db8-b961-468d-e216-2abd0364283f"
      },
      "source": [
        "import random\n",
        "import csv\n",
        "attr = [['Japan','USA'],\n",
        "              ['Honda','Toyota','Chrysler'],\n",
        "              ['Blue','Green','Red','White'],\n",
        "              ['1980','1970','1990'],\n",
        "              ['Economy','Sports']]\n",
        "\n",
        "\n",
        "num_attr = len(attr)\n",
        "\n",
        "\n",
        "print (\" \\n The most general hypothesis : ['?','?','?','?','?']\\n\")\n",
        "print (\"\\n The most specific hypothesis : ['Phi','Phi','Phi','Phi','Phi']\\n\")\n"
      ],
      "execution_count": null,
      "outputs": [
        {
          "output_type": "stream",
          "name": "stdout",
          "text": [
            " \n",
            " The most general hypothesis : ['?','?','?','?','?']\n",
            "\n",
            "\n",
            " The most specific hypothesis : ['Phi','Phi','Phi','Phi','Phi']\n",
            "\n"
          ]
        }
      ]
    },
    {
      "cell_type": "code",
      "metadata": {
        "colab": {
          "base_uri": "https://localhost:8080/"
        },
        "id": "Mw-g-GQYHUx2",
        "outputId": "de619ddb-9264-4d6b-da07-bf5e4f6e2935"
      },
      "source": [
        "a = []\n",
        "print(\"\\n The Given Training Data Set \\n\")\n",
        "\n",
        "with open('/content/EconomyCar.csv', 'r') as csvFile:\n",
        "    reader = csv.reader(csvFile)\n",
        "    for row in reader:\n",
        "        a.append (row)\n",
        "        print(row)\n"
      ],
      "execution_count": null,
      "outputs": [
        {
          "output_type": "stream",
          "name": "stdout",
          "text": [
            "\n",
            " The Given Training Data Set \n",
            "\n",
            "['Japan ', 'Honda', 'Blue ', '1980', 'Economy', 'Yes']\n",
            "['Japan ', 'Toyota', 'Green', '1970', 'Sports', 'No']\n",
            "['Japan ', 'Toyota', 'Blue ', '1990', 'Economy', 'Yes']\n",
            "['USA', 'Chrysler', 'Red', '1980', 'Economy', 'No']\n",
            "['Japan ', 'Honda', 'White', '1980', 'Economy', 'Yes']\n"
          ]
        }
      ]
    },
    {
      "cell_type": "code",
      "metadata": {
        "colab": {
          "base_uri": "https://localhost:8080/"
        },
        "id": "wyn0MDEmHsav",
        "outputId": "f7fc6fd6-07e1-4063-d030-de783f570389"
      },
      "source": [
        "print(\"The initial value of hypothesis: \")\n",
        "hypothesis = ['Phi'] * num_attr\n",
        "print(hypothesis)\n"
      ],
      "execution_count": null,
      "outputs": [
        {
          "output_type": "stream",
          "name": "stdout",
          "text": [
            "The initial value of hypothesis: \n",
            "['Phi', 'Phi', 'Phi', 'Phi', 'Phi']\n"
          ]
        }
      ]
    },
    {
      "cell_type": "code",
      "metadata": {
        "colab": {
          "base_uri": "https://localhost:8080/"
        },
        "id": "iISDH1dgH9DI",
        "outputId": "8b8375f4-de96-44c3-e471-053e113890ae"
      },
      "source": [
        "for j in range(0,num_attr):\n",
        "        hypothesis[j] = a[0][j];\n",
        "print(\"\\n Find S: Finding a Maximally Specific Hypothesis\\n\");\n",
        "\n",
        "for i in range(0,len(a)):\n",
        "    if a[i][num_attr]=='Yes':\n",
        "            for j in range(0,num_attr):\n",
        "                if a[i][j]!=hypothesis[j]:\n",
        "                    hypothesis[j]='?'\n",
        "                else :\n",
        "                    hypothesis[j]= a[i][j] \n",
        "    print(\" For Training Example No :{0} the hypothesis is \".format(i),hypothesis)\n",
        "                \n",
        "print(\"\\n The Maximally Specific Hypothesis for a given Training Examples :\\n\")\n",
        "print(hypothesis)\n"
      ],
      "execution_count": null,
      "outputs": [
        {
          "output_type": "stream",
          "name": "stdout",
          "text": [
            "\n",
            " Find S: Finding a Maximally Specific Hypothesis\n",
            "\n",
            " For Training Example No :0 the hypothesis is  ['Japan ', 'Honda', 'Blue ', '1980', 'Economy']\n",
            " For Training Example No :1 the hypothesis is  ['Japan ', 'Honda', 'Blue ', '1980', 'Economy']\n",
            " For Training Example No :2 the hypothesis is  ['Japan ', '?', 'Blue ', '?', 'Economy']\n",
            " For Training Example No :3 the hypothesis is  ['Japan ', '?', 'Blue ', '?', 'Economy']\n",
            " For Training Example No :4 the hypothesis is  ['Japan ', '?', '?', '?', 'Economy']\n",
            "\n",
            " The Maximally Specific Hypothesis for a given Training Examples :\n",
            "\n",
            "['Japan ', '?', '?', '?', 'Economy']\n"
          ]
        }
      ]
    }
  ]
}