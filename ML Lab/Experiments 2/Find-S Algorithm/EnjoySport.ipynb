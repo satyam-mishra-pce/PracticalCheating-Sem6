{
  "nbformat": 4,
  "nbformat_minor": 0,
  "metadata": {
    "colab": {
      "name": "EnjoySport.ipynb",
      "provenance": [],
      "collapsed_sections": []
    },
    "kernelspec": {
      "name": "python3",
      "display_name": "Python 3"
    },
    "language_info": {
      "name": "python"
    }
  },
  "cells": [
    {
      "cell_type": "code",
      "metadata": {
        "colab": {
          "base_uri": "https://localhost:8080/"
        },
        "id": "fbCA5mySFUkp",
        "outputId": "a0fb1450-2ea4-43ec-8988-8ff5b82ed4a9"
      },
      "source": [
        "import random\n",
        "import csv\n",
        "attr = [['Sunny','Rainy'],\n",
        "              ['Warm','Cold'],\n",
        "              ['Normal','High'],\n",
        "              ['Strong','Weak'],\n",
        "              ['Warm','Cool'],\n",
        "              ['Same','Change']]\n",
        "\n",
        "\n",
        "num_attr = len(attr)\n",
        "\n",
        "\n",
        "print (\" \\n The most general hypothesis : ['?','?','?','?','?','?']\\n\")\n",
        "print (\"\\n The most specific hypothesis : ['Phi','Phi','Phi','Phi','Phi','Phi']\\n\")\n"
      ],
      "execution_count": null,
      "outputs": [
        {
          "output_type": "stream",
          "name": "stdout",
          "text": [
            " \n",
            " The most general hypothesis : ['?','?','?','?','?','?']\n",
            "\n",
            "\n",
            " The most specific hypothesis : ['Phi','Phi','Phi','Phi','Phi','Phi']\n",
            "\n"
          ]
        }
      ]
    },
    {
      "cell_type": "code",
      "metadata": {
        "colab": {
          "base_uri": "https://localhost:8080/"
        },
        "id": "Mw-g-GQYHUx2",
        "outputId": "f36ce1ab-333f-424f-ba34-e40197265349"
      },
      "source": [
        "a = []\n",
        "print(\"\\n The Given Training Data Set \\n\")\n",
        "\n",
        "with open('/content/EnjoySport.csv', 'r') as csvFile:\n",
        "    reader = csv.reader(csvFile)\n",
        "    for row in reader:\n",
        "        a.append (row)\n",
        "        print(row)\n"
      ],
      "execution_count": null,
      "outputs": [
        {
          "output_type": "stream",
          "name": "stdout",
          "text": [
            "\n",
            " The Given Training Data Set \n",
            "\n",
            "['Sunny', 'Warm', 'Normal', 'Strong', 'Warm', 'Same', 'Yes']\n",
            "['Sunny', 'Warm', 'High', 'Strong', 'Warm', 'Same', 'Yes']\n",
            "['Rainy', 'Cold', 'High', 'Strong', 'Warm', 'Change', 'No']\n",
            "['Sunny', 'Warm', 'High', 'Strong', 'Cool', 'Change', 'Yes']\n"
          ]
        }
      ]
    },
    {
      "cell_type": "code",
      "metadata": {
        "colab": {
          "base_uri": "https://localhost:8080/"
        },
        "id": "wyn0MDEmHsav",
        "outputId": "ab5cd448-b4e8-431d-ece1-638c3583a032"
      },
      "source": [
        "print(\"The initial value of hypothesis: \")\n",
        "hypothesis = ['Phi'] * num_attr\n",
        "print(hypothesis)\n"
      ],
      "execution_count": null,
      "outputs": [
        {
          "output_type": "stream",
          "name": "stdout",
          "text": [
            "The initial value of hypothesis: \n",
            "['Phi', 'Phi', 'Phi', 'Phi', 'Phi', 'Phi']\n"
          ]
        }
      ]
    },
    {
      "cell_type": "code",
      "metadata": {
        "colab": {
          "base_uri": "https://localhost:8080/"
        },
        "id": "iISDH1dgH9DI",
        "outputId": "24faef5b-5310-4671-9e51-4fdf9a38c725"
      },
      "source": [
        "for j in range(0,num_attr):\n",
        "        hypothesis[j] = a[0][j];\n",
        "print(\"\\n Find S: Finding a Maximally Specific Hypothesis\\n\");\n",
        "\n",
        "for i in range(0,len(a)):\n",
        "    if a[i][num_attr]=='Yes':\n",
        "            for j in range(0,num_attr):\n",
        "                if a[i][j]!=hypothesis[j]:\n",
        "                    hypothesis[j]='?'\n",
        "                else :\n",
        "                    hypothesis[j]= a[i][j] \n",
        "    print(\" For Training Example No :{0} the hypothesis is \".format(i),hypothesis)\n",
        "                \n",
        "print(\"\\n The Maximally Specific Hypothesis for a given Training Examples :\\n\")\n",
        "print(hypothesis)\n"
      ],
      "execution_count": null,
      "outputs": [
        {
          "output_type": "stream",
          "name": "stdout",
          "text": [
            "\n",
            " Find S: Finding a Maximally Specific Hypothesis\n",
            "\n",
            " For Training Example No :0 the hypothesis is  ['Sunny', 'Warm', 'Normal', 'Strong', 'Warm', 'Same']\n",
            " For Training Example No :1 the hypothesis is  ['Sunny', 'Warm', '?', 'Strong', 'Warm', 'Same']\n",
            " For Training Example No :2 the hypothesis is  ['Sunny', 'Warm', '?', 'Strong', 'Warm', 'Same']\n",
            " For Training Example No :3 the hypothesis is  ['Sunny', 'Warm', '?', 'Strong', '?', '?']\n",
            "\n",
            " The Maximally Specific Hypothesis for a given Training Examples :\n",
            "\n",
            "['Sunny', 'Warm', '?', 'Strong', '?', '?']\n"
          ]
        }
      ]
    }
  ]
}