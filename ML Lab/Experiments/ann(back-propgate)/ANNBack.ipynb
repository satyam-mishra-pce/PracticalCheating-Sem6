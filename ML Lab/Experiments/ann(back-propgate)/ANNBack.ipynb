{
 "cells": [
  {
   "cell_type": "code",
   "execution_count": 2,
   "id": "62396792",
   "metadata": {},
   "outputs": [],
   "source": [
    "import numpy as np\n",
    "class NeuralNetwork:\n",
    "    def __init__(self, layers):\n",
    "        self.layers = layers\n",
    "        self.num_layers = len(layers)\n",
    "        self.weights = [np.random.randn(y, x) for x, y in zip(layers[:-1], layers[1:])]\n",
    "        self.biases = [np.random.randn(y, 1) for y in layers[1:]]\n",
    "\n",
    "    def forward_propagation(self, x):\n",
    "        a = x\n",
    "        activations = [a]\n",
    "        zs = []\n",
    "        for w, b in zip(self.weights, self.biases):\n",
    "            z = np.dot(w, a) + b\n",
    "            zs.append(z)\n",
    "            a = self.sigmoid(z)\n",
    "            activations.append(a)\n",
    "        return activations, zs\n",
    "\n",
    "    def backward_propagation(self, x, y):\n",
    "        activations, zs = self.forward_propagation(x)\n",
    "        delta = self.cost_derivative(activations[-1], y) * self.sigmoid_prime(zs[-1])\n",
    "        nabla_b = [delta]\n",
    "        nabla_w = [np.dot(delta, activations[-2].T)]\n",
    "        for l in range(2, self.num_layers):\n",
    "            z = zs[-l]\n",
    "            sp = self.sigmoid_prime(z)\n",
    "            delta = np.dot(self.weights[-l + 1].T, delta) * sp\n",
    "            nabla_b.insert(0, delta)\n",
    "            nabla_w.insert(0, np.dot(delta, activations[-l - 1].T))\n",
    "        return nabla_b, nabla_w\n",
    "\n",
    "    def update_weights_biases(self, mini_batch, eta):\n",
    "        nabla_b = [np.zeros(b.shape) for b in self.biases]\n",
    "        nabla_w = [np.zeros(w.shape) for w in self.weights]\n",
    "        for x, y in mini_batch:\n",
    "            delta_nabla_b, delta_nabla_w = self.backward_propagation(x, y)\n",
    "            nabla_b = [nb + dnb for nb, dnb in zip(nabla_b, delta_nabla_b)]\n",
    "            nabla_w = [nw + dnw for nw, dnw in zip(nabla_w, delta_nabla_w)]\n",
    "        self.weights = [w - (eta / len(mini_batch)) * nw for w, nw in zip(self.weights, nabla_w)]\n",
    "        self.biases = [b - (eta / len(mini_batch)) * nb for b, nb in zip(self.biases, nabla_b)]\n",
    "\n",
    "    def train(self, training_data, epochs, mini_batch_size, learning_rate):\n",
    "        n = len(training_data)\n",
    "        for epoch in range(epochs):\n",
    "            np.random.shuffle(training_data)\n",
    "            mini_batches = [\n",
    "                training_data[k : k + mini_batch_size]\n",
    "                for k in range(0, n, mini_batch_size)\n",
    "            ]\n",
    "            for mini_batch in mini_batches:\n",
    "                self.update_weights_biases(mini_batch, learning_rate)\n",
    "\n",
    "    def predict(self, x):\n",
    "        a = x\n",
    "        for w, b in zip(self.weights, self.biases):\n",
    "            z = np.dot(w, a) + b\n",
    "            a = self.sigmoid(z)\n",
    "        return a\n",
    "\n",
    "    @staticmethod\n",
    "    def sigmoid(z):\n",
    "        return 1.0 / (1.0 + np.exp(-z))\n",
    "\n",
    "    @staticmethod\n",
    "    def sigmoid_prime(z):\n",
    "        return NeuralNetwork.sigmoid(z) * (1 - NeuralNetwork.sigmoid(z))\n",
    "\n",
    "    @staticmethod\n",
    "    def cost_derivative(output_activations, y):\n",
    "        return output_activations - y\n"
   ]
  },
  {
   "cell_type": "code",
   "execution_count": 4,
   "id": "18c18d1a",
   "metadata": {},
   "outputs": [
    {
     "name": "stdout",
     "output_type": "stream",
     "text": [
      "Prediction for [0, 0]: [[0.49325615]]\n",
      "Prediction for [1, 1]: [[0.51356709]]\n"
     ]
    }
   ],
   "source": [
    "\n",
    "nn = NeuralNetwork([2, 3, 1])\n",
    "training_data = [\n",
    "    (np.array([[0], [0]]), np.array([[0]])),\n",
    "    (np.array([[0], [1]]), np.array([[1]])),\n",
    "    (np.array([[1], [0]]), np.array([[1]])),\n",
    "    (np.array([[1], [1]]), np.array([[0]])),\n",
    "]\n",
    "\n",
    "nn.train(training_data, epochs=1000, mini_batch_size=4, learning_rate=0.1)\n",
    "input_data = np.array([[0], [0]])\n",
    "prediction = nn.predict(input_data)\n",
    "print(\"Prediction for [0, 0]:\", prediction)\n",
    "\n",
    "input_data = np.array([[1], [1]])\n",
    "prediction = nn.predict(input_data)\n",
    "print(\"Prediction for [1, 1]:\", prediction)\n"
   ]
  },
  {
   "cell_type": "code",
   "execution_count": null,
   "id": "74f40151",
   "metadata": {},
   "outputs": [],
   "source": []
  }
 ],
 "metadata": {
  "kernelspec": {
   "display_name": "Python 3 (ipykernel)",
   "language": "python",
   "name": "python3"
  },
  "language_info": {
   "codemirror_mode": {
    "name": "ipython",
    "version": 3
   },
   "file_extension": ".py",
   "mimetype": "text/x-python",
   "name": "python",
   "nbconvert_exporter": "python",
   "pygments_lexer": "ipython3",
   "version": "3.9.13"
  }
 },
 "nbformat": 4,
 "nbformat_minor": 5
}
